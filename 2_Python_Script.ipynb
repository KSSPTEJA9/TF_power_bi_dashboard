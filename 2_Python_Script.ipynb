{
 "cells": [
  {
   "cell_type": "code",
   "execution_count": 26,
   "metadata": {},
   "outputs": [],
   "source": [
    "import pandas as pd\n",
    "\n",
    "# Load the CSV file into a pandas DataFrame\n",
    "file_path = 'sample_data for DE assessment.csv'  # Update this path as needed\n",
    "df = pd.read_csv(file_path,na_values=[''], keep_default_na=False)\n",
    "\n"
   ]
  },
  {
   "cell_type": "code",
   "execution_count": 27,
   "metadata": {},
   "outputs": [
    {
     "data": {
      "text/html": [
       "<div>\n",
       "<style scoped>\n",
       "    .dataframe tbody tr th:only-of-type {\n",
       "        vertical-align: middle;\n",
       "    }\n",
       "\n",
       "    .dataframe tbody tr th {\n",
       "        vertical-align: top;\n",
       "    }\n",
       "\n",
       "    .dataframe thead th {\n",
       "        text-align: right;\n",
       "    }\n",
       "</style>\n",
       "<table border=\"1\" class=\"dataframe\">\n",
       "  <thead>\n",
       "    <tr style=\"text-align: right;\">\n",
       "      <th></th>\n",
       "      <th>timestamp</th>\n",
       "      <th>user_id</th>\n",
       "      <th>event_type</th>\n",
       "      <th>region</th>\n",
       "      <th>country</th>\n",
       "      <th>device_id</th>\n",
       "      <th>referrer</th>\n",
       "    </tr>\n",
       "  </thead>\n",
       "  <tbody>\n",
       "    <tr>\n",
       "      <th>0</th>\n",
       "      <td>1/9/2022 0:00</td>\n",
       "      <td>2790</td>\n",
       "      <td>ordering_page</td>\n",
       "      <td>NA</td>\n",
       "      <td>UNITED STATES</td>\n",
       "      <td>1475</td>\n",
       "      <td>NaN</td>\n",
       "    </tr>\n",
       "    <tr>\n",
       "      <th>1</th>\n",
       "      <td>1/9/2022 0:00</td>\n",
       "      <td>2513</td>\n",
       "      <td>ordering_page</td>\n",
       "      <td>NA</td>\n",
       "      <td>UNITED STATES</td>\n",
       "      <td>50</td>\n",
       "      <td>google</td>\n",
       "    </tr>\n",
       "    <tr>\n",
       "      <th>2</th>\n",
       "      <td>1/9/2022 0:00</td>\n",
       "      <td>2513</td>\n",
       "      <td>ordering_page</td>\n",
       "      <td>NA</td>\n",
       "      <td>UNITED STATES</td>\n",
       "      <td>50</td>\n",
       "      <td>google</td>\n",
       "    </tr>\n",
       "    <tr>\n",
       "      <th>3</th>\n",
       "      <td>1/9/2022 0:00</td>\n",
       "      <td>2790</td>\n",
       "      <td>home_page</td>\n",
       "      <td>NA</td>\n",
       "      <td>UNITED STATES</td>\n",
       "      <td>1475</td>\n",
       "      <td>NaN</td>\n",
       "    </tr>\n",
       "    <tr>\n",
       "      <th>4</th>\n",
       "      <td>1/9/2022 0:00</td>\n",
       "      <td>1059</td>\n",
       "      <td>ordering_page</td>\n",
       "      <td>JP</td>\n",
       "      <td>JAPAN</td>\n",
       "      <td>2803</td>\n",
       "      <td>NaN</td>\n",
       "    </tr>\n",
       "  </tbody>\n",
       "</table>\n",
       "</div>"
      ],
      "text/plain": [
       "       timestamp  user_id     event_type region        country  device_id  \\\n",
       "0  1/9/2022 0:00     2790  ordering_page     NA  UNITED STATES       1475   \n",
       "1  1/9/2022 0:00     2513  ordering_page     NA  UNITED STATES         50   \n",
       "2  1/9/2022 0:00     2513  ordering_page     NA  UNITED STATES         50   \n",
       "3  1/9/2022 0:00     2790      home_page     NA  UNITED STATES       1475   \n",
       "4  1/9/2022 0:00     1059  ordering_page     JP          JAPAN       2803   \n",
       "\n",
       "  referrer  \n",
       "0      NaN  \n",
       "1   google  \n",
       "2   google  \n",
       "3      NaN  \n",
       "4      NaN  "
      ]
     },
     "execution_count": 27,
     "metadata": {},
     "output_type": "execute_result"
    }
   ],
   "source": [
    "df.head(5)"
   ]
  },
  {
   "cell_type": "code",
   "execution_count": 28,
   "metadata": {},
   "outputs": [
    {
     "name": "stdout",
     "output_type": "stream",
     "text": [
      "<class 'pandas.core.frame.DataFrame'>\n",
      "RangeIndex: 33123 entries, 0 to 33122\n",
      "Data columns (total 7 columns):\n",
      " #   Column      Non-Null Count  Dtype \n",
      "---  ------      --------------  ----- \n",
      " 0   timestamp   33123 non-null  object\n",
      " 1   user_id     33123 non-null  int64 \n",
      " 2   event_type  33123 non-null  object\n",
      " 3   region      33123 non-null  object\n",
      " 4   country     33008 non-null  object\n",
      " 5   device_id   33123 non-null  int64 \n",
      " 6   referrer    15357 non-null  object\n",
      "dtypes: int64(2), object(5)\n",
      "memory usage: 1.8+ MB\n"
     ]
    }
   ],
   "source": [
    "df.info()"
   ]
  },
  {
   "cell_type": "code",
   "execution_count": 30,
   "metadata": {},
   "outputs": [],
   "source": [
    "#df = pd.DataFrame(data)\n",
    "\n",
    "# Convert 'timestamp' column to datetime\n",
    "df['timestamp'] = pd.to_datetime(df['timestamp'])\n",
    "\n",
    "# Convert 'user_id' and 'device_id' columns to int64 (if not already)\n",
    "df['user_id'] = df['user_id'].astype('int64')\n",
    "df['device_id'] = df['device_id'].astype('int64')\n",
    "\n",
    "# Convert 'event_type', 'region', 'country', and 'referrer' columns to string (object)\n",
    "df['event_type'] = df['event_type'].astype('str')\n",
    "df['region'] = df['region'].astype('str')\n",
    "df['country'] = df['country'].astype('str')\n",
    "df['referrer'] = df['referrer'].astype('str')"
   ]
  },
  {
   "cell_type": "code",
   "execution_count": 31,
   "metadata": {},
   "outputs": [
    {
     "name": "stdout",
     "output_type": "stream",
     "text": [
      "<class 'pandas.core.frame.DataFrame'>\n",
      "RangeIndex: 33123 entries, 0 to 33122\n",
      "Data columns (total 7 columns):\n",
      " #   Column      Non-Null Count  Dtype         \n",
      "---  ------      --------------  -----         \n",
      " 0   timestamp   33123 non-null  datetime64[ns]\n",
      " 1   user_id     33123 non-null  int64         \n",
      " 2   event_type  33123 non-null  object        \n",
      " 3   region      33123 non-null  object        \n",
      " 4   country     33123 non-null  object        \n",
      " 5   device_id   33123 non-null  int64         \n",
      " 6   referrer    33123 non-null  object        \n",
      "dtypes: datetime64[ns](1), int64(2), object(4)\n",
      "memory usage: 1.8+ MB\n"
     ]
    }
   ],
   "source": [
    "df.info()"
   ]
  },
  {
   "cell_type": "code",
   "execution_count": 32,
   "metadata": {},
   "outputs": [
    {
     "data": {
      "text/html": [
       "<div>\n",
       "<style scoped>\n",
       "    .dataframe tbody tr th:only-of-type {\n",
       "        vertical-align: middle;\n",
       "    }\n",
       "\n",
       "    .dataframe tbody tr th {\n",
       "        vertical-align: top;\n",
       "    }\n",
       "\n",
       "    .dataframe thead th {\n",
       "        text-align: right;\n",
       "    }\n",
       "</style>\n",
       "<table border=\"1\" class=\"dataframe\">\n",
       "  <thead>\n",
       "    <tr style=\"text-align: right;\">\n",
       "      <th></th>\n",
       "      <th>timestamp</th>\n",
       "      <th>user_id</th>\n",
       "      <th>event_type</th>\n",
       "      <th>region</th>\n",
       "      <th>country</th>\n",
       "      <th>device_id</th>\n",
       "      <th>referrer</th>\n",
       "    </tr>\n",
       "  </thead>\n",
       "  <tbody>\n",
       "    <tr>\n",
       "      <th>22271</th>\n",
       "      <td>2022-01-13 18:39:00</td>\n",
       "      <td>13</td>\n",
       "      <td>ordering_page</td>\n",
       "      <td>EMEA</td>\n",
       "      <td>UNITED KINGDOM</td>\n",
       "      <td>1850</td>\n",
       "      <td>nan</td>\n",
       "    </tr>\n",
       "    <tr>\n",
       "      <th>22293</th>\n",
       "      <td>2022-01-13 18:43:00</td>\n",
       "      <td>13</td>\n",
       "      <td>ordering_page</td>\n",
       "      <td>EMEA</td>\n",
       "      <td>UNITED KINGDOM</td>\n",
       "      <td>1850</td>\n",
       "      <td>nan</td>\n",
       "    </tr>\n",
       "    <tr>\n",
       "      <th>22299</th>\n",
       "      <td>2022-01-13 18:43:00</td>\n",
       "      <td>13</td>\n",
       "      <td>checkout_page</td>\n",
       "      <td>EMEA</td>\n",
       "      <td>UNITED KINGDOM</td>\n",
       "      <td>1850</td>\n",
       "      <td>nan</td>\n",
       "    </tr>\n",
       "    <tr>\n",
       "      <th>22301</th>\n",
       "      <td>2022-01-13 18:44:00</td>\n",
       "      <td>13</td>\n",
       "      <td>checkout_success</td>\n",
       "      <td>EMEA</td>\n",
       "      <td>UNITED KINGDOM</td>\n",
       "      <td>1850</td>\n",
       "      <td>nan</td>\n",
       "    </tr>\n",
       "  </tbody>\n",
       "</table>\n",
       "</div>"
      ],
      "text/plain": [
       "                timestamp  user_id        event_type region         country  \\\n",
       "22271 2022-01-13 18:39:00       13     ordering_page   EMEA  UNITED KINGDOM   \n",
       "22293 2022-01-13 18:43:00       13     ordering_page   EMEA  UNITED KINGDOM   \n",
       "22299 2022-01-13 18:43:00       13     checkout_page   EMEA  UNITED KINGDOM   \n",
       "22301 2022-01-13 18:44:00       13  checkout_success   EMEA  UNITED KINGDOM   \n",
       "\n",
       "       device_id referrer  \n",
       "22271       1850      nan  \n",
       "22293       1850      nan  \n",
       "22299       1850      nan  \n",
       "22301       1850      nan  "
      ]
     },
     "execution_count": 32,
     "metadata": {},
     "output_type": "execute_result"
    }
   ],
   "source": [
    "# Before de-duplication\n",
    "df[df['user_id']==13]"
   ]
  },
  {
   "cell_type": "code",
   "execution_count": 33,
   "metadata": {},
   "outputs": [],
   "source": [
    "# Drop duplicates to ensure each user-event pair is counted once\n",
    "df = df.drop_duplicates(subset=['user_id', 'event_type'])\n"
   ]
  },
  {
   "cell_type": "code",
   "execution_count": 34,
   "metadata": {},
   "outputs": [
    {
     "data": {
      "text/html": [
       "<div>\n",
       "<style scoped>\n",
       "    .dataframe tbody tr th:only-of-type {\n",
       "        vertical-align: middle;\n",
       "    }\n",
       "\n",
       "    .dataframe tbody tr th {\n",
       "        vertical-align: top;\n",
       "    }\n",
       "\n",
       "    .dataframe thead th {\n",
       "        text-align: right;\n",
       "    }\n",
       "</style>\n",
       "<table border=\"1\" class=\"dataframe\">\n",
       "  <thead>\n",
       "    <tr style=\"text-align: right;\">\n",
       "      <th></th>\n",
       "      <th>timestamp</th>\n",
       "      <th>user_id</th>\n",
       "      <th>event_type</th>\n",
       "      <th>region</th>\n",
       "      <th>country</th>\n",
       "      <th>device_id</th>\n",
       "      <th>referrer</th>\n",
       "    </tr>\n",
       "  </thead>\n",
       "  <tbody>\n",
       "    <tr>\n",
       "      <th>22271</th>\n",
       "      <td>2022-01-13 18:39:00</td>\n",
       "      <td>13</td>\n",
       "      <td>ordering_page</td>\n",
       "      <td>EMEA</td>\n",
       "      <td>UNITED KINGDOM</td>\n",
       "      <td>1850</td>\n",
       "      <td>nan</td>\n",
       "    </tr>\n",
       "    <tr>\n",
       "      <th>22299</th>\n",
       "      <td>2022-01-13 18:43:00</td>\n",
       "      <td>13</td>\n",
       "      <td>checkout_page</td>\n",
       "      <td>EMEA</td>\n",
       "      <td>UNITED KINGDOM</td>\n",
       "      <td>1850</td>\n",
       "      <td>nan</td>\n",
       "    </tr>\n",
       "    <tr>\n",
       "      <th>22301</th>\n",
       "      <td>2022-01-13 18:44:00</td>\n",
       "      <td>13</td>\n",
       "      <td>checkout_success</td>\n",
       "      <td>EMEA</td>\n",
       "      <td>UNITED KINGDOM</td>\n",
       "      <td>1850</td>\n",
       "      <td>nan</td>\n",
       "    </tr>\n",
       "  </tbody>\n",
       "</table>\n",
       "</div>"
      ],
      "text/plain": [
       "                timestamp  user_id        event_type region         country  \\\n",
       "22271 2022-01-13 18:39:00       13     ordering_page   EMEA  UNITED KINGDOM   \n",
       "22299 2022-01-13 18:43:00       13     checkout_page   EMEA  UNITED KINGDOM   \n",
       "22301 2022-01-13 18:44:00       13  checkout_success   EMEA  UNITED KINGDOM   \n",
       "\n",
       "       device_id referrer  \n",
       "22271       1850      nan  \n",
       "22299       1850      nan  \n",
       "22301       1850      nan  "
      ]
     },
     "execution_count": 34,
     "metadata": {},
     "output_type": "execute_result"
    }
   ],
   "source": [
    "# Checking out after de-duplication\n",
    "df[df['user_id']==13]"
   ]
  },
  {
   "cell_type": "code",
   "execution_count": 35,
   "metadata": {},
   "outputs": [],
   "source": [
    "# Count unique users at each stage of the funnel\n",
    "home_page_visits = df[df['event_type'] == 'home_page']['user_id'].nunique()\n",
    "order_page_visits = df[df['event_type'] == 'ordering_page']['user_id'].nunique()\n",
    "checkout_page_visits = df[df['event_type'] == 'checkout_page']['user_id'].nunique()\n",
    "successful_checkouts = df[df['event_type'] == 'checkout_success']['user_id'].nunique()\n"
   ]
  },
  {
   "cell_type": "code",
   "execution_count": 36,
   "metadata": {},
   "outputs": [
    {
     "name": "stdout",
     "output_type": "stream",
     "text": [
      "2593 2090 1058 939\n"
     ]
    }
   ],
   "source": [
    "print(home_page_visits,order_page_visits,checkout_page_visits,successful_checkouts)"
   ]
  },
  {
   "cell_type": "code",
   "execution_count": 11,
   "metadata": {},
   "outputs": [],
   "source": [
    "# Calculate conversion rates\n",
    "home_to_order_rate = (order_page_visits / home_page_visits) * 100 if home_page_visits else 0\n",
    "order_to_checkout_rate = (checkout_page_visits / order_page_visits) * 100 if order_page_visits else 0\n",
    "checkout_to_success_rate = (successful_checkouts / checkout_page_visits) * 100 if checkout_page_visits else 0\n"
   ]
  },
  {
   "cell_type": "code",
   "execution_count": 12,
   "metadata": {},
   "outputs": [
    {
     "name": "stdout",
     "output_type": "stream",
     "text": [
      "Conversion rate from home page visits to order page visits: 80.60%\n",
      "Conversion rate from order page visits to checkout page visits: 50.62%\n",
      "Conversion rate from checkout page visits to successful checkout page visits: 88.75%\n"
     ]
    }
   ],
   "source": [
    "\n",
    "# Display conversion rates in percentage format\n",
    "print(f\"Conversion rate from home page visits to order page visits: {home_to_order_rate:.2f}%\")\n",
    "print(f\"Conversion rate from order page visits to checkout page visits: {order_to_checkout_rate:.2f}%\")\n",
    "print(f\"Conversion rate from checkout page visits to successful checkout page visits: {checkout_to_success_rate:.2f}%\")"
   ]
  },
  {
   "cell_type": "markdown",
   "metadata": {},
   "source": [
    "out of  80.60% only 50.62% are going to checkout page and out this 50.62% only 88.75% are going to successful page"
   ]
  }
 ],
 "metadata": {
  "kernelspec": {
   "display_name": "Python 3",
   "language": "python",
   "name": "python3"
  },
  "language_info": {
   "codemirror_mode": {
    "name": "ipython",
    "version": 3
   },
   "file_extension": ".py",
   "mimetype": "text/x-python",
   "name": "python",
   "nbconvert_exporter": "python",
   "pygments_lexer": "ipython3",
   "version": "3.10.11"
  }
 },
 "nbformat": 4,
 "nbformat_minor": 2
}
